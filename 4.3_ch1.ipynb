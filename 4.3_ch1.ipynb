{
 "cells": [
  {
   "cell_type": "markdown",
   "metadata": {},
   "source": [
    "(1) Log in to GitHub\n",
    "(2) Create a repo called `ds_challenge_03`\n",
    "(3) Clone the repo to your computer in an appropriate location\n",
    "(4) Download the `data.csv` file that I'll send in the next message\n",
    "(5) Use the `mv` command in the terminal to _move_ `data.csv` into your repo directory.\n",
    "(6) Create a new notebook.\n",
    "    (7) Write Python code that opens the file and prints out _only_ the GitHub usernames.\n",
    "(8) Add, commit, and push your code to GitHub.\n",
    "(9) Paste the link to your repo here.\n",
    "(10) Take a look at other students' solutions!\n",
    "\n",
    "Starter code:\n",
    "```import csv\n",
    "\n",
    "with open('data.csv') as f:\n",
    "    reader = csv.reader(f)\n",
    "    data = list(reader)```"
   ]
  },
  {
   "cell_type": "code",
   "execution_count": 1,
   "metadata": {},
   "outputs": [],
   "source": [
    "import csv"
   ]
  },
  {
   "cell_type": "code",
   "execution_count": 2,
   "metadata": {},
   "outputs": [],
   "source": [
    "with open('data_4-3-1.csv') as f:\n",
    "    reader = csv.reader(f)\n",
    "    data = list(reader)"
   ]
  },
  {
   "cell_type": "code",
   "execution_count": null,
   "metadata": {},
   "outputs": [],
   "source": [
    "(7) Write Python code that opens the file and prints out _only_ the GitHub usernames.\n",
    "(8) Add, commit, and push your code to GitHub.\n",
    "(9) Paste the link to your repo here.\n",
    "(10) Take a look at other students' solutions!\n",
    "\n",
    "Starter code:\n",
    "```import csv\n",
    "\n",
    "with open('data.csv') as f:\n",
    "    reader = csv.reader(f)\n",
    "    data = list(reader)```"
   ]
  },
  {
   "cell_type": "code",
   "execution_count": 5,
   "metadata": {},
   "outputs": [
    {
     "data": {
      "text/plain": [
       "[['Name', 'User', 'Links'],\n",
       " ['', '', ''],\n",
       " ['Alec Morgan',\n",
       "  'AlecMorgan',\n",
       "  'https://github.com/AlecMorgan/GitHub-Learning-Project'],\n",
       " ['Alex Shropshire', 'as6140', 'https://github.com/as6140/repotest1'],\n",
       " ['Alexander Bailey', 'ZMBailey', 'https://github.com/ZMBailey/fi_repo1'],\n",
       " ['Andy Luc', 'rokaandy', 'https://github.com/rokaandy/exercise_one'],\n",
       " ['Anna Zubova Bistrova',\n",
       "  'AnnaLara',\n",
       "  'https://github.com/AnnaLara/tuesday_practice'],\n",
       " ['Connor Anderson',\n",
       "  'ConnorAnderson29',\n",
       "  'https://github.com/ConnorAnderson29/Warmup_Repo'],\n",
       " ['David Kaspar',\n",
       "  'UpwardTrajectory',\n",
       "  'https://github.com/UpwardTrajectory/this_is_only_a_test'],\n",
       " ['Hussein Sajid', '', ''],\n",
       " ['Jacob Crabb',\n",
       "  'AlludedCrabb',\n",
       "  'https://github.com/AlludedCrabb/my-school-repo'],\n",
       " ['John Naujoks', 'jnawjux', 'https://github.com/jnawjux/tacos.git'],\n",
       " ['Kayli Schulz', 'kayschulz', 'https://github.com/kayschulz/day_2_warmup'],\n",
       " ['Kevin Velasco', 'kevintheduu', 'https://github.com/kevintheduu/day_two '],\n",
       " ['Laura Shummon Maass',\n",
       "  'Laura-ShummonMaass',\n",
       "  'https://github.com/Laura-ShummonMaass/Day2.git'],\n",
       " ['Lawrence Chew', 'worldyne', 'https://github.com/worldyne/warmup_1-2-2019'],\n",
       " ['Lee Mackey', 'glmack', 'https://github.com/glmack/flatiron-4.2.git'],\n",
       " ['Mando Iwanaga',\n",
       "  'mandoiwanaga',\n",
       "  'https://github.com/mandoiwanaga/how_to_drink_tea.git'],\n",
       " ['Mia Iseman', 'MIAISEMAN', 'https://github.com/MIAISEMAN/haikus'],\n",
       " ['Natasha Kacoroski',\n",
       "  'nkacoroski',\n",
       "  'https://github.com/nkacoroski/second_day.git'],\n",
       " ['Pat Fuller',\n",
       "  'Patrickbfuller',\n",
       "  'https://github.com/Patrickbfuller/practice_git_wk1d2'],\n",
       " ['Sherry Yang',\n",
       "  'sherzyang',\n",
       "  'https://github.com/sherzyang/new_repo/blob/master/sherrys_day.txt'],\n",
       " ['Taeho Jeon', 'Teosoft7', 'https://github.com/Teosoft7/data_mining.git'],\n",
       " ['Tara Greenwood',\n",
       "  'TSGreenwood',\n",
       "  'https://github.com/TSGreenwood/rock_paper_scissors/tree/master/.ipynb_checkpoints'],\n",
       " ['Werlindo Mangrobang',\n",
       "  'angrobanGit',\n",
       "  'https://github.com/MangrobanGit/warmup_190402']]"
      ]
     },
     "execution_count": 5,
     "metadata": {},
     "output_type": "execute_result"
    }
   ],
   "source": [
    "data"
   ]
  },
  {
   "cell_type": "code",
   "execution_count": 12,
   "metadata": {},
   "outputs": [
    {
     "name": "stdout",
     "output_type": "stream",
     "text": [
      "AlecMorgan\n",
      "as6140\n",
      "ZMBailey\n",
      "rokaandy\n",
      "AnnaLara\n",
      "ConnorAnderson29\n",
      "UpwardTrajectory\n",
      "\n",
      "AlludedCrabb\n",
      "jnawjux\n",
      "kayschulz\n",
      "kevintheduu\n",
      "Laura-ShummonMaass\n",
      "worldyne\n",
      "glmack\n",
      "mandoiwanaga\n",
      "MIAISEMAN\n",
      "nkacoroski\n",
      "Patrickbfuller\n",
      "sherzyang\n",
      "Teosoft7\n",
      "TSGreenwood\n",
      "angrobanGit\n"
     ]
    }
   ],
   "source": [
    "for i in data[2:]:\n",
    "    print(i[1])"
   ]
  },
  {
   "cell_type": "code",
   "execution_count": null,
   "metadata": {},
   "outputs": [],
   "source": []
  }
 ],
 "metadata": {
  "kernelspec": {
   "display_name": "learn-env",
   "language": "python",
   "name": "learn-env"
  },
  "language_info": {
   "codemirror_mode": {
    "name": "ipython",
    "version": 3
   },
   "file_extension": ".py",
   "mimetype": "text/x-python",
   "name": "python",
   "nbconvert_exporter": "python",
   "pygments_lexer": "ipython3",
   "version": "3.6.5"
  }
 },
 "nbformat": 4,
 "nbformat_minor": 2
}
